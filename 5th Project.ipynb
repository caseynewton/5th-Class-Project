{
 "cells": [
  {
   "cell_type": "code",
   "execution_count": 1,
   "metadata": {},
   "outputs": [
    {
     "data": {
      "text/html": [
       "<style>.container { width:100% !important; }</style>"
      ],
      "text/plain": [
       "<IPython.core.display.HTML object>"
      ]
     },
     "metadata": {},
     "output_type": "display_data"
    }
   ],
   "source": [
    "import pandas as pd\n",
    "import matplotlib.pyplot as plt\n",
    "import numpy as np\n",
    "import seaborn as sns\n",
    "%matplotlib inline\n",
    "from IPython.core.display import display, HTML\n",
    "display(HTML(\"<style>.container { width:100% !important; }</style>\"))"
   ]
  },
  {
   "cell_type": "code",
   "execution_count": 2,
   "metadata": {},
   "outputs": [],
   "source": [
    "RawData = pd.read_csv('NYPD_Arrest_Data__Year_to_Date_.csv')"
   ]
  },
  {
   "cell_type": "code",
   "execution_count": 3,
   "metadata": {},
   "outputs": [
    {
     "data": {
      "text/plain": [
       "(155507, 19)"
      ]
     },
     "execution_count": 3,
     "metadata": {},
     "output_type": "execute_result"
    }
   ],
   "source": [
    "RawData.shape"
   ]
  },
  {
   "cell_type": "code",
   "execution_count": 4,
   "metadata": {
    "scrolled": true
   },
   "outputs": [
    {
     "data": {
      "text/plain": [
       "ARREST_KEY                    int64\n",
       "ARREST_DATE                  object\n",
       "PD_CD                       float64\n",
       "PD_DESC                      object\n",
       "KY_CD                       float64\n",
       "OFNS_DESC                    object\n",
       "LAW_CODE                     object\n",
       "LAW_CAT_CD                   object\n",
       "ARREST_BORO                  object\n",
       "ARREST_PRECINCT               int64\n",
       "JURISDICTION_CODE             int64\n",
       "AGE_GROUP                    object\n",
       "PERP_SEX                     object\n",
       "PERP_RACE                    object\n",
       "X_COORD_CD                    int64\n",
       "Y_COORD_CD                    int64\n",
       "Latitude                    float64\n",
       "Longitude                   float64\n",
       "New Georeferenced Column     object\n",
       "dtype: object"
      ]
     },
     "execution_count": 4,
     "metadata": {},
     "output_type": "execute_result"
    }
   ],
   "source": [
    "RawData.dtypes"
   ]
  },
  {
   "cell_type": "code",
   "execution_count": 5,
   "metadata": {},
   "outputs": [
    {
     "data": {
      "text/plain": [
       "True"
      ]
     },
     "execution_count": 5,
     "metadata": {},
     "output_type": "execute_result"
    }
   ],
   "source": [
    "RawData['ARREST_KEY'].is_unique"
   ]
  },
  {
   "cell_type": "code",
   "execution_count": 6,
   "metadata": {},
   "outputs": [
    {
     "data": {
      "text/plain": [
       "LAW_CAT_CD\n",
       "F    70867\n",
       "I      230\n",
       "M    82632\n",
       "V      385\n",
       "Name: ARREST_KEY, dtype: int64"
      ]
     },
     "execution_count": 6,
     "metadata": {},
     "output_type": "execute_result"
    }
   ],
   "source": [
    "# Level of offense: felony, inchoate, misdemeanor, violation\n",
    "RawData.groupby(['LAW_CAT_CD'])['ARREST_KEY'].count()"
   ]
  },
  {
   "cell_type": "markdown",
   "metadata": {},
   "source": [
    "### I am interested in felonies. "
   ]
  },
  {
   "cell_type": "code",
   "execution_count": 7,
   "metadata": {},
   "outputs": [],
   "source": [
    "# Dropping columns that I think are unecessary.\n",
    "drop_cols = ['PD_CD','PD_DESC','KY_CD','JURISDICTION_CODE','X_COORD_CD','Y_COORD_CD','Latitude','Longitude','New Georeferenced Column','LAW_CODE']\n",
    "RawData.drop(drop_cols, inplace = True, axis=1)"
   ]
  },
  {
   "cell_type": "code",
   "execution_count": 8,
   "metadata": {},
   "outputs": [
    {
     "data": {
      "text/html": [
       "<div>\n",
       "<style scoped>\n",
       "    .dataframe tbody tr th:only-of-type {\n",
       "        vertical-align: middle;\n",
       "    }\n",
       "\n",
       "    .dataframe tbody tr th {\n",
       "        vertical-align: top;\n",
       "    }\n",
       "\n",
       "    .dataframe thead th {\n",
       "        text-align: right;\n",
       "    }\n",
       "</style>\n",
       "<table border=\"1\" class=\"dataframe\">\n",
       "  <thead>\n",
       "    <tr style=\"text-align: right;\">\n",
       "      <th></th>\n",
       "      <th>ARREST_KEY</th>\n",
       "      <th>ARREST_DATE</th>\n",
       "      <th>OFNS_DESC</th>\n",
       "      <th>LAW_CAT_CD</th>\n",
       "      <th>ARREST_BORO</th>\n",
       "      <th>ARREST_PRECINCT</th>\n",
       "      <th>AGE_GROUP</th>\n",
       "      <th>PERP_SEX</th>\n",
       "      <th>PERP_RACE</th>\n",
       "    </tr>\n",
       "  </thead>\n",
       "  <tbody>\n",
       "    <tr>\n",
       "      <th>0</th>\n",
       "      <td>238013474</td>\n",
       "      <td>12/18/2021</td>\n",
       "      <td>RAPE</td>\n",
       "      <td>F</td>\n",
       "      <td>Q</td>\n",
       "      <td>105</td>\n",
       "      <td>18-24</td>\n",
       "      <td>M</td>\n",
       "      <td>BLACK</td>\n",
       "    </tr>\n",
       "    <tr>\n",
       "      <th>1</th>\n",
       "      <td>236943583</td>\n",
       "      <td>11/25/2021</td>\n",
       "      <td>ARSON</td>\n",
       "      <td>F</td>\n",
       "      <td>K</td>\n",
       "      <td>69</td>\n",
       "      <td>25-44</td>\n",
       "      <td>M</td>\n",
       "      <td>BLACK</td>\n",
       "    </tr>\n",
       "    <tr>\n",
       "      <th>2</th>\n",
       "      <td>234938876</td>\n",
       "      <td>10/14/2021</td>\n",
       "      <td>SEX CRIMES</td>\n",
       "      <td>F</td>\n",
       "      <td>K</td>\n",
       "      <td>61</td>\n",
       "      <td>25-44</td>\n",
       "      <td>M</td>\n",
       "      <td>WHITE</td>\n",
       "    </tr>\n",
       "    <tr>\n",
       "      <th>3</th>\n",
       "      <td>234788259</td>\n",
       "      <td>10/11/2021</td>\n",
       "      <td>ARSON</td>\n",
       "      <td>F</td>\n",
       "      <td>B</td>\n",
       "      <td>42</td>\n",
       "      <td>18-24</td>\n",
       "      <td>M</td>\n",
       "      <td>BLACK</td>\n",
       "    </tr>\n",
       "    <tr>\n",
       "      <th>4</th>\n",
       "      <td>234188790</td>\n",
       "      <td>09/28/2021</td>\n",
       "      <td>NaN</td>\n",
       "      <td>M</td>\n",
       "      <td>B</td>\n",
       "      <td>44</td>\n",
       "      <td>25-44</td>\n",
       "      <td>M</td>\n",
       "      <td>BLACK</td>\n",
       "    </tr>\n",
       "  </tbody>\n",
       "</table>\n",
       "</div>"
      ],
      "text/plain": [
       "   ARREST_KEY ARREST_DATE   OFNS_DESC LAW_CAT_CD ARREST_BORO  ARREST_PRECINCT  \\\n",
       "0   238013474  12/18/2021        RAPE          F           Q              105   \n",
       "1   236943583  11/25/2021       ARSON          F           K               69   \n",
       "2   234938876  10/14/2021  SEX CRIMES          F           K               61   \n",
       "3   234788259  10/11/2021       ARSON          F           B               42   \n",
       "4   234188790  09/28/2021         NaN          M           B               44   \n",
       "\n",
       "  AGE_GROUP PERP_SEX PERP_RACE  \n",
       "0     18-24        M     BLACK  \n",
       "1     25-44        M     BLACK  \n",
       "2     25-44        M     WHITE  \n",
       "3     18-24        M     BLACK  \n",
       "4     25-44        M     BLACK  "
      ]
     },
     "execution_count": 8,
     "metadata": {},
     "output_type": "execute_result"
    }
   ],
   "source": [
    "RawData.head()"
   ]
  },
  {
   "cell_type": "code",
   "execution_count": 9,
   "metadata": {},
   "outputs": [
    {
     "data": {
      "text/html": [
       "<div>\n",
       "<style scoped>\n",
       "    .dataframe tbody tr th:only-of-type {\n",
       "        vertical-align: middle;\n",
       "    }\n",
       "\n",
       "    .dataframe tbody tr th {\n",
       "        vertical-align: top;\n",
       "    }\n",
       "\n",
       "    .dataframe thead th {\n",
       "        text-align: right;\n",
       "    }\n",
       "</style>\n",
       "<table border=\"1\" class=\"dataframe\">\n",
       "  <thead>\n",
       "    <tr style=\"text-align: right;\">\n",
       "      <th></th>\n",
       "      <th>ARREST_KEY</th>\n",
       "      <th>Date</th>\n",
       "      <th>Offence</th>\n",
       "      <th>Offence Level</th>\n",
       "      <th>Borough</th>\n",
       "      <th>Precinct</th>\n",
       "      <th>Age Group</th>\n",
       "      <th>Sex</th>\n",
       "      <th>Race</th>\n",
       "    </tr>\n",
       "  </thead>\n",
       "  <tbody>\n",
       "    <tr>\n",
       "      <th>0</th>\n",
       "      <td>238013474</td>\n",
       "      <td>12/18/2021</td>\n",
       "      <td>RAPE</td>\n",
       "      <td>F</td>\n",
       "      <td>Q</td>\n",
       "      <td>105</td>\n",
       "      <td>18-24</td>\n",
       "      <td>M</td>\n",
       "      <td>BLACK</td>\n",
       "    </tr>\n",
       "    <tr>\n",
       "      <th>1</th>\n",
       "      <td>236943583</td>\n",
       "      <td>11/25/2021</td>\n",
       "      <td>ARSON</td>\n",
       "      <td>F</td>\n",
       "      <td>K</td>\n",
       "      <td>69</td>\n",
       "      <td>25-44</td>\n",
       "      <td>M</td>\n",
       "      <td>BLACK</td>\n",
       "    </tr>\n",
       "    <tr>\n",
       "      <th>2</th>\n",
       "      <td>234938876</td>\n",
       "      <td>10/14/2021</td>\n",
       "      <td>SEX CRIMES</td>\n",
       "      <td>F</td>\n",
       "      <td>K</td>\n",
       "      <td>61</td>\n",
       "      <td>25-44</td>\n",
       "      <td>M</td>\n",
       "      <td>WHITE</td>\n",
       "    </tr>\n",
       "    <tr>\n",
       "      <th>3</th>\n",
       "      <td>234788259</td>\n",
       "      <td>10/11/2021</td>\n",
       "      <td>ARSON</td>\n",
       "      <td>F</td>\n",
       "      <td>B</td>\n",
       "      <td>42</td>\n",
       "      <td>18-24</td>\n",
       "      <td>M</td>\n",
       "      <td>BLACK</td>\n",
       "    </tr>\n",
       "    <tr>\n",
       "      <th>4</th>\n",
       "      <td>234188790</td>\n",
       "      <td>09/28/2021</td>\n",
       "      <td>NaN</td>\n",
       "      <td>M</td>\n",
       "      <td>B</td>\n",
       "      <td>44</td>\n",
       "      <td>25-44</td>\n",
       "      <td>M</td>\n",
       "      <td>BLACK</td>\n",
       "    </tr>\n",
       "  </tbody>\n",
       "</table>\n",
       "</div>"
      ],
      "text/plain": [
       "   ARREST_KEY        Date     Offence Offence Level Borough  Precinct  \\\n",
       "0   238013474  12/18/2021        RAPE             F       Q       105   \n",
       "1   236943583  11/25/2021       ARSON             F       K        69   \n",
       "2   234938876  10/14/2021  SEX CRIMES             F       K        61   \n",
       "3   234788259  10/11/2021       ARSON             F       B        42   \n",
       "4   234188790  09/28/2021         NaN             M       B        44   \n",
       "\n",
       "  Age Group Sex   Race  \n",
       "0     18-24   M  BLACK  \n",
       "1     25-44   M  BLACK  \n",
       "2     25-44   M  WHITE  \n",
       "3     18-24   M  BLACK  \n",
       "4     25-44   M  BLACK  "
      ]
     },
     "execution_count": 9,
     "metadata": {},
     "output_type": "execute_result"
    }
   ],
   "source": [
    "# Renaming columns to something that makes sense to me.\n",
    "RawData.rename(columns={'ARREST_DATE': 'Date', 'OFNS_DESC': 'Offence', 'LAW_CAT_CD': 'Offence Level', 'ARREST_BORO': 'Borough', 'ARREST_PRECINCT': 'Precinct',  'AGE_GROUP': 'Age Group', 'PERP_SEX': 'Sex', 'PERP_RACE': 'Race'}, inplace=True)\n",
    "RawData.head()"
   ]
  },
  {
   "cell_type": "code",
   "execution_count": 10,
   "metadata": {},
   "outputs": [
    {
     "data": {
      "text/plain": [
       "ARREST_KEY          0\n",
       "Date                0\n",
       "Offence           103\n",
       "Offence Level    1393\n",
       "Borough             0\n",
       "Precinct            0\n",
       "Age Group           0\n",
       "Sex                 0\n",
       "Race                0\n",
       "dtype: int64"
      ]
     },
     "execution_count": 10,
     "metadata": {},
     "output_type": "execute_result"
    }
   ],
   "source": [
    "# Checking for null values.\n",
    "RawData.isnull().sum()"
   ]
  },
  {
   "cell_type": "code",
   "execution_count": 11,
   "metadata": {},
   "outputs": [
    {
     "data": {
      "text/plain": [
       "(70867, 9)"
      ]
     },
     "execution_count": 11,
     "metadata": {},
     "output_type": "execute_result"
    }
   ],
   "source": [
    "# There are a lot of nulls. Going to filter this down to felonies to see if that limits the amount of nulls.\n",
    "FelonyRawData = RawData[RawData['Offence Level'] == 'F']\n",
    "FelonyRawData.shape"
   ]
  },
  {
   "cell_type": "code",
   "execution_count": 12,
   "metadata": {},
   "outputs": [
    {
     "data": {
      "text/plain": [
       "ARREST_KEY        0\n",
       "Date              0\n",
       "Offence          46\n",
       "Offence Level     0\n",
       "Borough           0\n",
       "Precinct          0\n",
       "Age Group         0\n",
       "Sex               0\n",
       "Race              0\n",
       "dtype: int64"
      ]
     },
     "execution_count": 12,
     "metadata": {},
     "output_type": "execute_result"
    }
   ],
   "source": [
    "# Okay not so may nulls now.\n",
    "# With over 70k entries 46 is not significant I will drop the nulls.\n",
    "FelonyRawData.isnull().sum()"
   ]
  },
  {
   "cell_type": "code",
   "execution_count": 13,
   "metadata": {},
   "outputs": [
    {
     "data": {
      "text/html": [
       "<div>\n",
       "<style scoped>\n",
       "    .dataframe tbody tr th:only-of-type {\n",
       "        vertical-align: middle;\n",
       "    }\n",
       "\n",
       "    .dataframe tbody tr th {\n",
       "        vertical-align: top;\n",
       "    }\n",
       "\n",
       "    .dataframe thead th {\n",
       "        text-align: right;\n",
       "    }\n",
       "</style>\n",
       "<table border=\"1\" class=\"dataframe\">\n",
       "  <thead>\n",
       "    <tr style=\"text-align: right;\">\n",
       "      <th></th>\n",
       "      <th>ARREST_KEY</th>\n",
       "      <th>Date</th>\n",
       "      <th>Offence</th>\n",
       "      <th>Offence Level</th>\n",
       "      <th>Borough</th>\n",
       "      <th>Precinct</th>\n",
       "      <th>Age Group</th>\n",
       "      <th>Sex</th>\n",
       "      <th>Race</th>\n",
       "    </tr>\n",
       "  </thead>\n",
       "  <tbody>\n",
       "    <tr>\n",
       "      <th>0</th>\n",
       "      <td>238013474</td>\n",
       "      <td>12/18/2021</td>\n",
       "      <td>RAPE</td>\n",
       "      <td>F</td>\n",
       "      <td>Q</td>\n",
       "      <td>105</td>\n",
       "      <td>18-24</td>\n",
       "      <td>M</td>\n",
       "      <td>BLACK</td>\n",
       "    </tr>\n",
       "    <tr>\n",
       "      <th>1</th>\n",
       "      <td>236943583</td>\n",
       "      <td>11/25/2021</td>\n",
       "      <td>ARSON</td>\n",
       "      <td>F</td>\n",
       "      <td>K</td>\n",
       "      <td>69</td>\n",
       "      <td>25-44</td>\n",
       "      <td>M</td>\n",
       "      <td>BLACK</td>\n",
       "    </tr>\n",
       "    <tr>\n",
       "      <th>2</th>\n",
       "      <td>234938876</td>\n",
       "      <td>10/14/2021</td>\n",
       "      <td>SEX CRIMES</td>\n",
       "      <td>F</td>\n",
       "      <td>K</td>\n",
       "      <td>61</td>\n",
       "      <td>25-44</td>\n",
       "      <td>M</td>\n",
       "      <td>WHITE</td>\n",
       "    </tr>\n",
       "    <tr>\n",
       "      <th>3</th>\n",
       "      <td>234788259</td>\n",
       "      <td>10/11/2021</td>\n",
       "      <td>ARSON</td>\n",
       "      <td>F</td>\n",
       "      <td>B</td>\n",
       "      <td>42</td>\n",
       "      <td>18-24</td>\n",
       "      <td>M</td>\n",
       "      <td>BLACK</td>\n",
       "    </tr>\n",
       "    <tr>\n",
       "      <th>5</th>\n",
       "      <td>234117071</td>\n",
       "      <td>09/27/2021</td>\n",
       "      <td>RAPE</td>\n",
       "      <td>F</td>\n",
       "      <td>K</td>\n",
       "      <td>84</td>\n",
       "      <td>25-44</td>\n",
       "      <td>M</td>\n",
       "      <td>BLACK</td>\n",
       "    </tr>\n",
       "    <tr>\n",
       "      <th>...</th>\n",
       "      <td>...</td>\n",
       "      <td>...</td>\n",
       "      <td>...</td>\n",
       "      <td>...</td>\n",
       "      <td>...</td>\n",
       "      <td>...</td>\n",
       "      <td>...</td>\n",
       "      <td>...</td>\n",
       "      <td>...</td>\n",
       "    </tr>\n",
       "    <tr>\n",
       "      <th>155500</th>\n",
       "      <td>222488090</td>\n",
       "      <td>01/01/2021</td>\n",
       "      <td>CRIMINAL MISCHIEF &amp; RELATED OF</td>\n",
       "      <td>F</td>\n",
       "      <td>Q</td>\n",
       "      <td>115</td>\n",
       "      <td>25-44</td>\n",
       "      <td>M</td>\n",
       "      <td>WHITE HISPANIC</td>\n",
       "    </tr>\n",
       "    <tr>\n",
       "      <th>155502</th>\n",
       "      <td>222884924</td>\n",
       "      <td>01/10/2021</td>\n",
       "      <td>ROBBERY</td>\n",
       "      <td>F</td>\n",
       "      <td>B</td>\n",
       "      <td>46</td>\n",
       "      <td>45-64</td>\n",
       "      <td>M</td>\n",
       "      <td>BLACK</td>\n",
       "    </tr>\n",
       "    <tr>\n",
       "      <th>155503</th>\n",
       "      <td>223918625</td>\n",
       "      <td>02/03/2021</td>\n",
       "      <td>DANGEROUS WEAPONS</td>\n",
       "      <td>F</td>\n",
       "      <td>K</td>\n",
       "      <td>67</td>\n",
       "      <td>18-24</td>\n",
       "      <td>M</td>\n",
       "      <td>BLACK</td>\n",
       "    </tr>\n",
       "    <tr>\n",
       "      <th>155505</th>\n",
       "      <td>222599533</td>\n",
       "      <td>01/04/2021</td>\n",
       "      <td>DANGEROUS WEAPONS</td>\n",
       "      <td>F</td>\n",
       "      <td>K</td>\n",
       "      <td>73</td>\n",
       "      <td>25-44</td>\n",
       "      <td>M</td>\n",
       "      <td>BLACK</td>\n",
       "    </tr>\n",
       "    <tr>\n",
       "      <th>155506</th>\n",
       "      <td>224056881</td>\n",
       "      <td>02/06/2021</td>\n",
       "      <td>CRIMINAL MISCHIEF &amp; RELATED OF</td>\n",
       "      <td>F</td>\n",
       "      <td>Q</td>\n",
       "      <td>102</td>\n",
       "      <td>18-24</td>\n",
       "      <td>M</td>\n",
       "      <td>ASIAN / PACIFIC ISLANDER</td>\n",
       "    </tr>\n",
       "  </tbody>\n",
       "</table>\n",
       "<p>70821 rows × 9 columns</p>\n",
       "</div>"
      ],
      "text/plain": [
       "        ARREST_KEY        Date                         Offence Offence Level  \\\n",
       "0        238013474  12/18/2021                            RAPE             F   \n",
       "1        236943583  11/25/2021                           ARSON             F   \n",
       "2        234938876  10/14/2021                      SEX CRIMES             F   \n",
       "3        234788259  10/11/2021                           ARSON             F   \n",
       "5        234117071  09/27/2021                            RAPE             F   \n",
       "...            ...         ...                             ...           ...   \n",
       "155500   222488090  01/01/2021  CRIMINAL MISCHIEF & RELATED OF             F   \n",
       "155502   222884924  01/10/2021                         ROBBERY             F   \n",
       "155503   223918625  02/03/2021               DANGEROUS WEAPONS             F   \n",
       "155505   222599533  01/04/2021               DANGEROUS WEAPONS             F   \n",
       "155506   224056881  02/06/2021  CRIMINAL MISCHIEF & RELATED OF             F   \n",
       "\n",
       "       Borough  Precinct Age Group Sex                      Race  \n",
       "0            Q       105     18-24   M                     BLACK  \n",
       "1            K        69     25-44   M                     BLACK  \n",
       "2            K        61     25-44   M                     WHITE  \n",
       "3            B        42     18-24   M                     BLACK  \n",
       "5            K        84     25-44   M                     BLACK  \n",
       "...        ...       ...       ...  ..                       ...  \n",
       "155500       Q       115     25-44   M            WHITE HISPANIC  \n",
       "155502       B        46     45-64   M                     BLACK  \n",
       "155503       K        67     18-24   M                     BLACK  \n",
       "155505       K        73     25-44   M                     BLACK  \n",
       "155506       Q       102     18-24   M  ASIAN / PACIFIC ISLANDER  \n",
       "\n",
       "[70821 rows x 9 columns]"
      ]
     },
     "execution_count": 13,
     "metadata": {},
     "output_type": "execute_result"
    }
   ],
   "source": [
    "# Dropping rows with nulls.\n",
    "FelonyRawData.dropna()"
   ]
  },
  {
   "cell_type": "code",
   "execution_count": 14,
   "metadata": {},
   "outputs": [
    {
     "data": {
      "text/plain": [
       "ARREST_KEY        0\n",
       "Date              0\n",
       "Offence          46\n",
       "Offence Level     0\n",
       "Borough           0\n",
       "Precinct          0\n",
       "Age Group         0\n",
       "Sex               0\n",
       "Race              0\n",
       "dtype: int64"
      ]
     },
     "execution_count": 14,
     "metadata": {},
     "output_type": "execute_result"
    }
   ],
   "source": [
    "# I am still seeing nulls.\n",
    "FelonyRawData.isnull().sum()"
   ]
  },
  {
   "cell_type": "code",
   "execution_count": 15,
   "metadata": {},
   "outputs": [],
   "source": [
    "# Exporting to see what they look like.\n",
    "FelonyRawData.to_excel(r'C:\\Users\\CASDiaz\\OneDrive - Healthfirst\\Desktop\\Anatlytics Class\\Python\\5th Project\\FelonyRawData.xlsx', index = False)"
   ]
  },
  {
   "cell_type": "code",
   "execution_count": 16,
   "metadata": {},
   "outputs": [
    {
     "data": {
      "text/plain": [
       "0                                   RAPE\n",
       "1                                  ARSON\n",
       "2                             SEX CRIMES\n",
       "3                                  ARSON\n",
       "5                                   RAPE\n",
       "                       ...              \n",
       "155500    CRIMINAL MISCHIEF & RELATED OF\n",
       "155502                           ROBBERY\n",
       "155503                 DANGEROUS WEAPONS\n",
       "155505                 DANGEROUS WEAPONS\n",
       "155506    CRIMINAL MISCHIEF & RELATED OF\n",
       "Name: Offence, Length: 70867, dtype: object"
      ]
     },
     "execution_count": 16,
     "metadata": {},
     "output_type": "execute_result"
    }
   ],
   "source": [
    "# The nulls are just blanks. Going to change the nulls to 'Unknown'.\n",
    "FelonyRawData['Offence'].fillna(value='Unknown')"
   ]
  },
  {
   "cell_type": "code",
   "execution_count": 17,
   "metadata": {},
   "outputs": [
    {
     "data": {
      "text/plain": [
       "ARREST_KEY        0\n",
       "Date              0\n",
       "Offence          46\n",
       "Offence Level     0\n",
       "Borough           0\n",
       "Precinct          0\n",
       "Age Group         0\n",
       "Sex               0\n",
       "Race              0\n",
       "dtype: int64"
      ]
     },
     "execution_count": 17,
     "metadata": {},
     "output_type": "execute_result"
    }
   ],
   "source": [
    "# Okay that did not work. Going to try a different way to drop the rows with missing data in the 'Offence' column.\n",
    "FelonyRawData.isnull().sum()"
   ]
  },
  {
   "cell_type": "code",
   "execution_count": 18,
   "metadata": {},
   "outputs": [
    {
     "data": {
      "text/plain": [
       "(46,)"
      ]
     },
     "execution_count": 18,
     "metadata": {},
     "output_type": "execute_result"
    }
   ],
   "source": [
    "# Creating a list of rows with missing values.\n",
    "NullValueList = FelonyRawData.index[FelonyRawData.isnull().any(axis=1)]\n",
    "NullValueList.shape"
   ]
  },
  {
   "cell_type": "code",
   "execution_count": 19,
   "metadata": {},
   "outputs": [
    {
     "name": "stderr",
     "output_type": "stream",
     "text": [
      "C:\\Anaconda3\\lib\\site-packages\\pandas\\core\\frame.py:4163: SettingWithCopyWarning: \n",
      "A value is trying to be set on a copy of a slice from a DataFrame\n",
      "\n",
      "See the caveats in the documentation: https://pandas.pydata.org/pandas-docs/stable/user_guide/indexing.html#returning-a-view-versus-a-copy\n",
      "  return super().drop(\n"
     ]
    }
   ],
   "source": [
    "# Droping rows that are in the NullValueList.\n",
    "FelonyRawData.drop(NullValueList,0, inplace=True)"
   ]
  },
  {
   "cell_type": "code",
   "execution_count": 20,
   "metadata": {},
   "outputs": [
    {
     "data": {
      "text/plain": [
       "ARREST_KEY       0\n",
       "Date             0\n",
       "Offence          0\n",
       "Offence Level    0\n",
       "Borough          0\n",
       "Precinct         0\n",
       "Age Group        0\n",
       "Sex              0\n",
       "Race             0\n",
       "dtype: int64"
      ]
     },
     "execution_count": 20,
     "metadata": {},
     "output_type": "execute_result"
    }
   ],
   "source": [
    "# Okay! Null rows removed.\n",
    "FelonyRawData.isnull().sum()"
   ]
  },
  {
   "cell_type": "code",
   "execution_count": 21,
   "metadata": {},
   "outputs": [
    {
     "data": {
      "text/html": [
       "<div>\n",
       "<style scoped>\n",
       "    .dataframe tbody tr th:only-of-type {\n",
       "        vertical-align: middle;\n",
       "    }\n",
       "\n",
       "    .dataframe tbody tr th {\n",
       "        vertical-align: top;\n",
       "    }\n",
       "\n",
       "    .dataframe thead th {\n",
       "        text-align: right;\n",
       "    }\n",
       "</style>\n",
       "<table border=\"1\" class=\"dataframe\">\n",
       "  <thead>\n",
       "    <tr style=\"text-align: right;\">\n",
       "      <th></th>\n",
       "      <th>ARREST_KEY</th>\n",
       "      <th>Date</th>\n",
       "      <th>Offence</th>\n",
       "      <th>Borough</th>\n",
       "      <th>Precinct</th>\n",
       "      <th>Age Group</th>\n",
       "      <th>Sex</th>\n",
       "      <th>Race</th>\n",
       "    </tr>\n",
       "  </thead>\n",
       "  <tbody>\n",
       "    <tr>\n",
       "      <th>0</th>\n",
       "      <td>238013474</td>\n",
       "      <td>12/18/2021</td>\n",
       "      <td>RAPE</td>\n",
       "      <td>Q</td>\n",
       "      <td>105</td>\n",
       "      <td>18-24</td>\n",
       "      <td>M</td>\n",
       "      <td>BLACK</td>\n",
       "    </tr>\n",
       "    <tr>\n",
       "      <th>1</th>\n",
       "      <td>236943583</td>\n",
       "      <td>11/25/2021</td>\n",
       "      <td>ARSON</td>\n",
       "      <td>K</td>\n",
       "      <td>69</td>\n",
       "      <td>25-44</td>\n",
       "      <td>M</td>\n",
       "      <td>BLACK</td>\n",
       "    </tr>\n",
       "    <tr>\n",
       "      <th>2</th>\n",
       "      <td>234938876</td>\n",
       "      <td>10/14/2021</td>\n",
       "      <td>SEX CRIMES</td>\n",
       "      <td>K</td>\n",
       "      <td>61</td>\n",
       "      <td>25-44</td>\n",
       "      <td>M</td>\n",
       "      <td>WHITE</td>\n",
       "    </tr>\n",
       "    <tr>\n",
       "      <th>3</th>\n",
       "      <td>234788259</td>\n",
       "      <td>10/11/2021</td>\n",
       "      <td>ARSON</td>\n",
       "      <td>B</td>\n",
       "      <td>42</td>\n",
       "      <td>18-24</td>\n",
       "      <td>M</td>\n",
       "      <td>BLACK</td>\n",
       "    </tr>\n",
       "    <tr>\n",
       "      <th>5</th>\n",
       "      <td>234117071</td>\n",
       "      <td>09/27/2021</td>\n",
       "      <td>RAPE</td>\n",
       "      <td>K</td>\n",
       "      <td>84</td>\n",
       "      <td>25-44</td>\n",
       "      <td>M</td>\n",
       "      <td>BLACK</td>\n",
       "    </tr>\n",
       "  </tbody>\n",
       "</table>\n",
       "</div>"
      ],
      "text/plain": [
       "   ARREST_KEY        Date     Offence Borough  Precinct Age Group Sex   Race\n",
       "0   238013474  12/18/2021        RAPE       Q       105     18-24   M  BLACK\n",
       "1   236943583  11/25/2021       ARSON       K        69     25-44   M  BLACK\n",
       "2   234938876  10/14/2021  SEX CRIMES       K        61     25-44   M  WHITE\n",
       "3   234788259  10/11/2021       ARSON       B        42     18-24   M  BLACK\n",
       "5   234117071  09/27/2021        RAPE       K        84     25-44   M  BLACK"
      ]
     },
     "execution_count": 21,
     "metadata": {},
     "output_type": "execute_result"
    }
   ],
   "source": [
    "# Dropping 'Offence Level' column since I don't need it anymore.\n",
    "drop_cols = ['Offence Level']\n",
    "FelonyRawData.drop(drop_cols, inplace = True, axis=1)\n",
    "FelonyRawData.head()"
   ]
  },
  {
   "cell_type": "code",
   "execution_count": 22,
   "metadata": {},
   "outputs": [
    {
     "data": {
      "text/plain": [
       "ARREST_KEY     int64\n",
       "Date          object\n",
       "Offence       object\n",
       "Borough       object\n",
       "Precinct       int64\n",
       "Age Group     object\n",
       "Sex           object\n",
       "Race          object\n",
       "dtype: object"
      ]
     },
     "execution_count": 22,
     "metadata": {},
     "output_type": "execute_result"
    }
   ],
   "source": [
    "# Checking the data type of the Date column.\n",
    "FelonyRawData.dtypes"
   ]
  },
  {
   "cell_type": "code",
   "execution_count": 23,
   "metadata": {},
   "outputs": [
    {
     "name": "stderr",
     "output_type": "stream",
     "text": [
      "<ipython-input-23-27ae49142881>:3: SettingWithCopyWarning: \n",
      "A value is trying to be set on a copy of a slice from a DataFrame.\n",
      "Try using .loc[row_indexer,col_indexer] = value instead\n",
      "\n",
      "See the caveats in the documentation: https://pandas.pydata.org/pandas-docs/stable/user_guide/indexing.html#returning-a-view-versus-a-copy\n",
      "  FelonyRawData['Date'] = pd.to_datetime(FelonyRawData['Date'])\n"
     ]
    },
    {
     "data": {
      "text/plain": [
       "ARREST_KEY             int64\n",
       "Date          datetime64[ns]\n",
       "Offence               object\n",
       "Borough               object\n",
       "Precinct               int64\n",
       "Age Group             object\n",
       "Sex                   object\n",
       "Race                  object\n",
       "dtype: object"
      ]
     },
     "execution_count": 23,
     "metadata": {},
     "output_type": "execute_result"
    }
   ],
   "source": [
    "# I want to use the date column. \n",
    "# Going to convert it so that it reads as a date.\n",
    "FelonyRawData['Date'] = pd.to_datetime(FelonyRawData['Date'])\n",
    "FelonyRawData.dtypes"
   ]
  },
  {
   "cell_type": "code",
   "execution_count": 24,
   "metadata": {},
   "outputs": [
    {
     "name": "stderr",
     "output_type": "stream",
     "text": [
      "<ipython-input-24-bc9bb8618953>:2: SettingWithCopyWarning: \n",
      "A value is trying to be set on a copy of a slice from a DataFrame.\n",
      "Try using .loc[row_indexer,col_indexer] = value instead\n",
      "\n",
      "See the caveats in the documentation: https://pandas.pydata.org/pandas-docs/stable/user_guide/indexing.html#returning-a-view-versus-a-copy\n",
      "  FelonyRawData['Month #'] = pd.DatetimeIndex(FelonyRawData['Date']).month\n"
     ]
    },
    {
     "data": {
      "text/html": [
       "<div>\n",
       "<style scoped>\n",
       "    .dataframe tbody tr th:only-of-type {\n",
       "        vertical-align: middle;\n",
       "    }\n",
       "\n",
       "    .dataframe tbody tr th {\n",
       "        vertical-align: top;\n",
       "    }\n",
       "\n",
       "    .dataframe thead th {\n",
       "        text-align: right;\n",
       "    }\n",
       "</style>\n",
       "<table border=\"1\" class=\"dataframe\">\n",
       "  <thead>\n",
       "    <tr style=\"text-align: right;\">\n",
       "      <th></th>\n",
       "      <th>ARREST_KEY</th>\n",
       "      <th>Date</th>\n",
       "      <th>Offence</th>\n",
       "      <th>Borough</th>\n",
       "      <th>Precinct</th>\n",
       "      <th>Age Group</th>\n",
       "      <th>Sex</th>\n",
       "      <th>Race</th>\n",
       "      <th>Month #</th>\n",
       "    </tr>\n",
       "  </thead>\n",
       "  <tbody>\n",
       "    <tr>\n",
       "      <th>0</th>\n",
       "      <td>238013474</td>\n",
       "      <td>2021-12-18</td>\n",
       "      <td>RAPE</td>\n",
       "      <td>Q</td>\n",
       "      <td>105</td>\n",
       "      <td>18-24</td>\n",
       "      <td>M</td>\n",
       "      <td>BLACK</td>\n",
       "      <td>12</td>\n",
       "    </tr>\n",
       "    <tr>\n",
       "      <th>1</th>\n",
       "      <td>236943583</td>\n",
       "      <td>2021-11-25</td>\n",
       "      <td>ARSON</td>\n",
       "      <td>K</td>\n",
       "      <td>69</td>\n",
       "      <td>25-44</td>\n",
       "      <td>M</td>\n",
       "      <td>BLACK</td>\n",
       "      <td>11</td>\n",
       "    </tr>\n",
       "    <tr>\n",
       "      <th>2</th>\n",
       "      <td>234938876</td>\n",
       "      <td>2021-10-14</td>\n",
       "      <td>SEX CRIMES</td>\n",
       "      <td>K</td>\n",
       "      <td>61</td>\n",
       "      <td>25-44</td>\n",
       "      <td>M</td>\n",
       "      <td>WHITE</td>\n",
       "      <td>10</td>\n",
       "    </tr>\n",
       "    <tr>\n",
       "      <th>3</th>\n",
       "      <td>234788259</td>\n",
       "      <td>2021-10-11</td>\n",
       "      <td>ARSON</td>\n",
       "      <td>B</td>\n",
       "      <td>42</td>\n",
       "      <td>18-24</td>\n",
       "      <td>M</td>\n",
       "      <td>BLACK</td>\n",
       "      <td>10</td>\n",
       "    </tr>\n",
       "    <tr>\n",
       "      <th>5</th>\n",
       "      <td>234117071</td>\n",
       "      <td>2021-09-27</td>\n",
       "      <td>RAPE</td>\n",
       "      <td>K</td>\n",
       "      <td>84</td>\n",
       "      <td>25-44</td>\n",
       "      <td>M</td>\n",
       "      <td>BLACK</td>\n",
       "      <td>9</td>\n",
       "    </tr>\n",
       "  </tbody>\n",
       "</table>\n",
       "</div>"
      ],
      "text/plain": [
       "   ARREST_KEY       Date     Offence Borough  Precinct Age Group Sex   Race  \\\n",
       "0   238013474 2021-12-18        RAPE       Q       105     18-24   M  BLACK   \n",
       "1   236943583 2021-11-25       ARSON       K        69     25-44   M  BLACK   \n",
       "2   234938876 2021-10-14  SEX CRIMES       K        61     25-44   M  WHITE   \n",
       "3   234788259 2021-10-11       ARSON       B        42     18-24   M  BLACK   \n",
       "5   234117071 2021-09-27        RAPE       K        84     25-44   M  BLACK   \n",
       "\n",
       "   Month #  \n",
       "0       12  \n",
       "1       11  \n",
       "2       10  \n",
       "3       10  \n",
       "5        9  "
      ]
     },
     "execution_count": 24,
     "metadata": {},
     "output_type": "execute_result"
    }
   ],
   "source": [
    "# Creating column for to denote month.\n",
    "FelonyRawData['Month #'] = pd.DatetimeIndex(FelonyRawData['Date']).month\n",
    "FelonyRawData.head()"
   ]
  },
  {
   "cell_type": "code",
   "execution_count": 25,
   "metadata": {},
   "outputs": [
    {
     "name": "stderr",
     "output_type": "stream",
     "text": [
      "<ipython-input-25-5d86cd105a37>:2: SettingWithCopyWarning: \n",
      "A value is trying to be set on a copy of a slice from a DataFrame.\n",
      "Try using .loc[row_indexer,col_indexer] = value instead\n",
      "\n",
      "See the caveats in the documentation: https://pandas.pydata.org/pandas-docs/stable/user_guide/indexing.html#returning-a-view-versus-a-copy\n",
      "  FelonyRawData['Month'] = pd.to_datetime(FelonyRawData['Month #'], format='%m').dt.month_name().str.slice(stop=3)\n"
     ]
    },
    {
     "data": {
      "text/html": [
       "<div>\n",
       "<style scoped>\n",
       "    .dataframe tbody tr th:only-of-type {\n",
       "        vertical-align: middle;\n",
       "    }\n",
       "\n",
       "    .dataframe tbody tr th {\n",
       "        vertical-align: top;\n",
       "    }\n",
       "\n",
       "    .dataframe thead th {\n",
       "        text-align: right;\n",
       "    }\n",
       "</style>\n",
       "<table border=\"1\" class=\"dataframe\">\n",
       "  <thead>\n",
       "    <tr style=\"text-align: right;\">\n",
       "      <th></th>\n",
       "      <th>ARREST_KEY</th>\n",
       "      <th>Date</th>\n",
       "      <th>Offence</th>\n",
       "      <th>Borough</th>\n",
       "      <th>Precinct</th>\n",
       "      <th>Age Group</th>\n",
       "      <th>Sex</th>\n",
       "      <th>Race</th>\n",
       "      <th>Month #</th>\n",
       "      <th>Month</th>\n",
       "    </tr>\n",
       "  </thead>\n",
       "  <tbody>\n",
       "    <tr>\n",
       "      <th>0</th>\n",
       "      <td>238013474</td>\n",
       "      <td>2021-12-18</td>\n",
       "      <td>RAPE</td>\n",
       "      <td>Q</td>\n",
       "      <td>105</td>\n",
       "      <td>18-24</td>\n",
       "      <td>M</td>\n",
       "      <td>BLACK</td>\n",
       "      <td>12</td>\n",
       "      <td>Dec</td>\n",
       "    </tr>\n",
       "    <tr>\n",
       "      <th>1</th>\n",
       "      <td>236943583</td>\n",
       "      <td>2021-11-25</td>\n",
       "      <td>ARSON</td>\n",
       "      <td>K</td>\n",
       "      <td>69</td>\n",
       "      <td>25-44</td>\n",
       "      <td>M</td>\n",
       "      <td>BLACK</td>\n",
       "      <td>11</td>\n",
       "      <td>Nov</td>\n",
       "    </tr>\n",
       "    <tr>\n",
       "      <th>2</th>\n",
       "      <td>234938876</td>\n",
       "      <td>2021-10-14</td>\n",
       "      <td>SEX CRIMES</td>\n",
       "      <td>K</td>\n",
       "      <td>61</td>\n",
       "      <td>25-44</td>\n",
       "      <td>M</td>\n",
       "      <td>WHITE</td>\n",
       "      <td>10</td>\n",
       "      <td>Oct</td>\n",
       "    </tr>\n",
       "    <tr>\n",
       "      <th>3</th>\n",
       "      <td>234788259</td>\n",
       "      <td>2021-10-11</td>\n",
       "      <td>ARSON</td>\n",
       "      <td>B</td>\n",
       "      <td>42</td>\n",
       "      <td>18-24</td>\n",
       "      <td>M</td>\n",
       "      <td>BLACK</td>\n",
       "      <td>10</td>\n",
       "      <td>Oct</td>\n",
       "    </tr>\n",
       "    <tr>\n",
       "      <th>5</th>\n",
       "      <td>234117071</td>\n",
       "      <td>2021-09-27</td>\n",
       "      <td>RAPE</td>\n",
       "      <td>K</td>\n",
       "      <td>84</td>\n",
       "      <td>25-44</td>\n",
       "      <td>M</td>\n",
       "      <td>BLACK</td>\n",
       "      <td>9</td>\n",
       "      <td>Sep</td>\n",
       "    </tr>\n",
       "  </tbody>\n",
       "</table>\n",
       "</div>"
      ],
      "text/plain": [
       "   ARREST_KEY       Date     Offence Borough  Precinct Age Group Sex   Race  \\\n",
       "0   238013474 2021-12-18        RAPE       Q       105     18-24   M  BLACK   \n",
       "1   236943583 2021-11-25       ARSON       K        69     25-44   M  BLACK   \n",
       "2   234938876 2021-10-14  SEX CRIMES       K        61     25-44   M  WHITE   \n",
       "3   234788259 2021-10-11       ARSON       B        42     18-24   M  BLACK   \n",
       "5   234117071 2021-09-27        RAPE       K        84     25-44   M  BLACK   \n",
       "\n",
       "   Month # Month  \n",
       "0       12   Dec  \n",
       "1       11   Nov  \n",
       "2       10   Oct  \n",
       "3       10   Oct  \n",
       "5        9   Sep  "
      ]
     },
     "execution_count": 25,
     "metadata": {},
     "output_type": "execute_result"
    }
   ],
   "source": [
    "# Creating additional columns for abreviated month.\n",
    "FelonyRawData['Month'] = pd.to_datetime(FelonyRawData['Month #'], format='%m').dt.month_name().str.slice(stop=3)\n",
    "FelonyRawData.head()"
   ]
  },
  {
   "cell_type": "code",
   "execution_count": 26,
   "metadata": {},
   "outputs": [
    {
     "data": {
      "text/html": [
       "<div>\n",
       "<style scoped>\n",
       "    .dataframe tbody tr th:only-of-type {\n",
       "        vertical-align: middle;\n",
       "    }\n",
       "\n",
       "    .dataframe tbody tr th {\n",
       "        vertical-align: top;\n",
       "    }\n",
       "\n",
       "    .dataframe thead th {\n",
       "        text-align: right;\n",
       "    }\n",
       "</style>\n",
       "<table border=\"1\" class=\"dataframe\">\n",
       "  <thead>\n",
       "    <tr style=\"text-align: right;\">\n",
       "      <th></th>\n",
       "      <th>ARREST_KEY</th>\n",
       "      <th>Date</th>\n",
       "      <th>Offence</th>\n",
       "      <th>Borough</th>\n",
       "      <th>Precinct</th>\n",
       "      <th>Age Group</th>\n",
       "      <th>Sex</th>\n",
       "      <th>Race</th>\n",
       "      <th>Month #</th>\n",
       "      <th>Month</th>\n",
       "    </tr>\n",
       "  </thead>\n",
       "  <tbody>\n",
       "    <tr>\n",
       "      <th>139603</th>\n",
       "      <td>223594338</td>\n",
       "      <td>2021-01-26</td>\n",
       "      <td>NYS LAWS-UNCLASSIFIED FELONY</td>\n",
       "      <td>K</td>\n",
       "      <td>90</td>\n",
       "      <td>25-44</td>\n",
       "      <td>M</td>\n",
       "      <td>BLACK HISPANIC</td>\n",
       "      <td>1</td>\n",
       "      <td>Jan</td>\n",
       "    </tr>\n",
       "    <tr>\n",
       "      <th>134873</th>\n",
       "      <td>223473656</td>\n",
       "      <td>2021-01-23</td>\n",
       "      <td>DANGEROUS WEAPONS</td>\n",
       "      <td>Q</td>\n",
       "      <td>106</td>\n",
       "      <td>18-24</td>\n",
       "      <td>F</td>\n",
       "      <td>BLACK</td>\n",
       "      <td>1</td>\n",
       "      <td>Jan</td>\n",
       "    </tr>\n",
       "    <tr>\n",
       "      <th>143745</th>\n",
       "      <td>223027639</td>\n",
       "      <td>2021-01-13</td>\n",
       "      <td>FORGERY</td>\n",
       "      <td>K</td>\n",
       "      <td>67</td>\n",
       "      <td>25-44</td>\n",
       "      <td>M</td>\n",
       "      <td>BLACK</td>\n",
       "      <td>1</td>\n",
       "      <td>Jan</td>\n",
       "    </tr>\n",
       "    <tr>\n",
       "      <th>143747</th>\n",
       "      <td>222624031</td>\n",
       "      <td>2021-01-05</td>\n",
       "      <td>MISCELLANEOUS PENAL LAW</td>\n",
       "      <td>Q</td>\n",
       "      <td>107</td>\n",
       "      <td>18-24</td>\n",
       "      <td>M</td>\n",
       "      <td>BLACK</td>\n",
       "      <td>1</td>\n",
       "      <td>Jan</td>\n",
       "    </tr>\n",
       "    <tr>\n",
       "      <th>143749</th>\n",
       "      <td>222844492</td>\n",
       "      <td>2021-01-09</td>\n",
       "      <td>ROBBERY</td>\n",
       "      <td>B</td>\n",
       "      <td>50</td>\n",
       "      <td>&lt;18</td>\n",
       "      <td>M</td>\n",
       "      <td>BLACK HISPANIC</td>\n",
       "      <td>1</td>\n",
       "      <td>Jan</td>\n",
       "    </tr>\n",
       "    <tr>\n",
       "      <th>...</th>\n",
       "      <td>...</td>\n",
       "      <td>...</td>\n",
       "      <td>...</td>\n",
       "      <td>...</td>\n",
       "      <td>...</td>\n",
       "      <td>...</td>\n",
       "      <td>...</td>\n",
       "      <td>...</td>\n",
       "      <td>...</td>\n",
       "      <td>...</td>\n",
       "    </tr>\n",
       "    <tr>\n",
       "      <th>12880</th>\n",
       "      <td>238309248</td>\n",
       "      <td>2021-12-26</td>\n",
       "      <td>ROBBERY</td>\n",
       "      <td>M</td>\n",
       "      <td>24</td>\n",
       "      <td>25-44</td>\n",
       "      <td>M</td>\n",
       "      <td>BLACK</td>\n",
       "      <td>12</td>\n",
       "      <td>Dec</td>\n",
       "    </tr>\n",
       "    <tr>\n",
       "      <th>12890</th>\n",
       "      <td>237386334</td>\n",
       "      <td>2021-12-05</td>\n",
       "      <td>ROBBERY</td>\n",
       "      <td>Q</td>\n",
       "      <td>107</td>\n",
       "      <td>18-24</td>\n",
       "      <td>M</td>\n",
       "      <td>BLACK</td>\n",
       "      <td>12</td>\n",
       "      <td>Dec</td>\n",
       "    </tr>\n",
       "    <tr>\n",
       "      <th>12891</th>\n",
       "      <td>238462874</td>\n",
       "      <td>2021-12-30</td>\n",
       "      <td>FELONY ASSAULT</td>\n",
       "      <td>S</td>\n",
       "      <td>120</td>\n",
       "      <td>25-44</td>\n",
       "      <td>M</td>\n",
       "      <td>BLACK</td>\n",
       "      <td>12</td>\n",
       "      <td>Dec</td>\n",
       "    </tr>\n",
       "    <tr>\n",
       "      <th>12894</th>\n",
       "      <td>237818224</td>\n",
       "      <td>2021-12-14</td>\n",
       "      <td>FELONY ASSAULT</td>\n",
       "      <td>Q</td>\n",
       "      <td>112</td>\n",
       "      <td>25-44</td>\n",
       "      <td>M</td>\n",
       "      <td>BLACK</td>\n",
       "      <td>12</td>\n",
       "      <td>Dec</td>\n",
       "    </tr>\n",
       "    <tr>\n",
       "      <th>0</th>\n",
       "      <td>238013474</td>\n",
       "      <td>2021-12-18</td>\n",
       "      <td>RAPE</td>\n",
       "      <td>Q</td>\n",
       "      <td>105</td>\n",
       "      <td>18-24</td>\n",
       "      <td>M</td>\n",
       "      <td>BLACK</td>\n",
       "      <td>12</td>\n",
       "      <td>Dec</td>\n",
       "    </tr>\n",
       "  </tbody>\n",
       "</table>\n",
       "<p>70821 rows × 10 columns</p>\n",
       "</div>"
      ],
      "text/plain": [
       "        ARREST_KEY       Date                       Offence Borough  Precinct  \\\n",
       "139603   223594338 2021-01-26  NYS LAWS-UNCLASSIFIED FELONY       K        90   \n",
       "134873   223473656 2021-01-23             DANGEROUS WEAPONS       Q       106   \n",
       "143745   223027639 2021-01-13                       FORGERY       K        67   \n",
       "143747   222624031 2021-01-05       MISCELLANEOUS PENAL LAW       Q       107   \n",
       "143749   222844492 2021-01-09                       ROBBERY       B        50   \n",
       "...            ...        ...                           ...     ...       ...   \n",
       "12880    238309248 2021-12-26                       ROBBERY       M        24   \n",
       "12890    237386334 2021-12-05                       ROBBERY       Q       107   \n",
       "12891    238462874 2021-12-30                FELONY ASSAULT       S       120   \n",
       "12894    237818224 2021-12-14                FELONY ASSAULT       Q       112   \n",
       "0        238013474 2021-12-18                          RAPE       Q       105   \n",
       "\n",
       "       Age Group Sex            Race  Month # Month  \n",
       "139603     25-44   M  BLACK HISPANIC        1   Jan  \n",
       "134873     18-24   F           BLACK        1   Jan  \n",
       "143745     25-44   M           BLACK        1   Jan  \n",
       "143747     18-24   M           BLACK        1   Jan  \n",
       "143749       <18   M  BLACK HISPANIC        1   Jan  \n",
       "...          ...  ..             ...      ...   ...  \n",
       "12880      25-44   M           BLACK       12   Dec  \n",
       "12890      18-24   M           BLACK       12   Dec  \n",
       "12891      25-44   M           BLACK       12   Dec  \n",
       "12894      25-44   M           BLACK       12   Dec  \n",
       "0          18-24   M           BLACK       12   Dec  \n",
       "\n",
       "[70821 rows x 10 columns]"
      ]
     },
     "execution_count": 26,
     "metadata": {},
     "output_type": "execute_result"
    }
   ],
   "source": [
    "# Sorting Data by Month\n",
    "FelonyRawData.sort_values(by='Month #', ascending=True)"
   ]
  },
  {
   "cell_type": "code",
   "execution_count": 27,
   "metadata": {},
   "outputs": [
    {
     "name": "stderr",
     "output_type": "stream",
     "text": [
      "C:\\Anaconda3\\lib\\site-packages\\pandas\\core\\series.py:4563: SettingWithCopyWarning: \n",
      "A value is trying to be set on a copy of a slice from a DataFrame\n",
      "\n",
      "See the caveats in the documentation: https://pandas.pydata.org/pandas-docs/stable/user_guide/indexing.html#returning-a-view-versus-a-copy\n",
      "  return super().replace(\n"
     ]
    },
    {
     "data": {
      "text/plain": [
       "Sex\n",
       "Female    10547\n",
       "Male      60274\n",
       "Name: ARREST_KEY, dtype: int64"
      ]
     },
     "execution_count": 27,
     "metadata": {},
     "output_type": "execute_result"
    }
   ],
   "source": [
    "# Fixing the sex so that it is just not 1 letter.\n",
    "FelonyRawData['Sex'].replace('M', 'Male',inplace=True)\n",
    "FelonyRawData['Sex'].replace('F', 'Female',inplace=True)\n",
    "FelonyRawData.groupby(['Sex'])['ARREST_KEY'].count()"
   ]
  },
  {
   "cell_type": "code",
   "execution_count": 28,
   "metadata": {},
   "outputs": [
    {
     "data": {
      "text/plain": [
       "Borough\n",
       "Bronx            14901\n",
       "Brooklyn         20935\n",
       "Manhattan        16811\n",
       "Queens           15095\n",
       "Staten Island     3079\n",
       "Name: ARREST_KEY, dtype: int64"
      ]
     },
     "execution_count": 28,
     "metadata": {},
     "output_type": "execute_result"
    }
   ],
   "source": [
    "# Fixing the Borough so that it is just not 1 letter.\n",
    "FelonyRawData['Borough'].replace('B', 'Bronx',inplace=True)\n",
    "FelonyRawData['Borough'].replace('K', 'Brooklyn',inplace=True)\n",
    "FelonyRawData['Borough'].replace('M', 'Manhattan',inplace=True)\n",
    "FelonyRawData['Borough'].replace('Q', 'Queens',inplace=True)\n",
    "FelonyRawData['Borough'].replace('S', 'Staten Island',inplace=True)\n",
    "FelonyRawData.groupby(['Borough'])['ARREST_KEY'].count()"
   ]
  },
  {
   "cell_type": "markdown",
   "metadata": {},
   "source": [
    "### Going to take a look at how the data looks over time, Borough, Race, Gender and Age Group\n",
    "    - I still feel like I am getting to know the data.\n",
    "    - Going to create some visualizations to see if anything stands out."
   ]
  },
  {
   "cell_type": "code",
   "execution_count": 29,
   "metadata": {},
   "outputs": [
    {
     "data": {
      "text/plain": [
       "<AxesSubplot:xlabel='Month #,Month'>"
      ]
     },
     "execution_count": 29,
     "metadata": {},
     "output_type": "execute_result"
    },
    {
     "data": {
      "image/png": "[encoded data removed]",
      "text/plain": [
       "<Figure size 2160x360 with 1 Axes>"
      ]
     },
     "metadata": {
      "needs_background": "light"
     },
     "output_type": "display_data"
    }
   ],
   "source": [
    "# Looking at arrests over time.\n",
    "# Had to add the month # column to the information to get it sorted correctly\n",
    "ArrestsOverTime = pd.pivot_table(FelonyRawData,values=\"ARREST_KEY\",index=\"Borough\",columns=[\"Month #\",'Month'], aggfunc=np.sum)\n",
    "ArrestsbyMonth = ArrestsOverTime.sum()\n",
    "ArrestsbyMonth.plot(figsize=(30,5))"
   ]
  },
  {
   "cell_type": "code",
   "execution_count": 30,
   "metadata": {},
   "outputs": [
    {
     "data": {
      "text/plain": [
       "<AxesSubplot:ylabel='ARREST_KEY'>"
      ]
     },
     "execution_count": 30,
     "metadata": {},
     "output_type": "execute_result"
    },
    {
     "data": {
      "image/png": "[encoded data removed]",
      "text/plain": [
       "<Figure size 432x288 with 1 Axes>"
      ]
     },
     "metadata": {},
     "output_type": "display_data"
    }
   ],
   "source": [
    "# Taking a look at how the arrests break out by borough.\n",
    "FelonybyBorough = FelonyRawData.groupby(['Borough'])['ARREST_KEY'].count()\n",
    "FelonybyBorough.plot.pie()"
   ]
  },
  {
   "cell_type": "code",
   "execution_count": 31,
   "metadata": {},
   "outputs": [
    {
     "data": {
      "text/plain": [
       "<AxesSubplot:ylabel='ARREST_KEY'>"
      ]
     },
     "execution_count": 31,
     "metadata": {},
     "output_type": "execute_result"
    },
    {
     "data": {
      "image/png": "[encoded data removed]",
      "text/plain": [
       "<Figure size 432x288 with 1 Axes>"
      ]
     },
     "metadata": {},
     "output_type": "display_data"
    }
   ],
   "source": [
    "#I was surprized that most of the arrests are for age group 25 - 44\n",
    "FelonybyAge = FelonyRawData.groupby(['Age Group'])['ARREST_KEY'].count()\n",
    "FelonybyAge.plot.pie()"
   ]
  },
  {
   "cell_type": "code",
   "execution_count": 32,
   "metadata": {},
   "outputs": [
    {
     "data": {
      "text/plain": [
       "<AxesSubplot:ylabel='ARREST_KEY'>"
      ]
     },
     "execution_count": 32,
     "metadata": {},
     "output_type": "execute_result"
    },
    {
     "data": {
      "image/png": "[encoded data removed]",
      "text/plain": [
       "<Figure size 432x288 with 1 Axes>"
      ]
     },
     "metadata": {},
     "output_type": "display_data"
    }
   ],
   "source": [
    "# Not a surprize. Mostly males in the arrest data. \n",
    "FelonybySex = FelonyRawData.groupby(['Sex'])['ARREST_KEY'].count()\n",
    "FelonybySex.plot.pie()"
   ]
  },
  {
   "cell_type": "code",
   "execution_count": 33,
   "metadata": {},
   "outputs": [
    {
     "data": {
      "text/plain": [
       "<AxesSubplot:ylabel='ARREST_KEY'>"
      ]
     },
     "execution_count": 33,
     "metadata": {},
     "output_type": "execute_result"
    },
    {
     "data": {
      "image/png": "[encoded data removed]",
      "text/plain": [
       "<Figure size 432x288 with 1 Axes>"
      ]
     },
     "metadata": {},
     "output_type": "display_data"
    }
   ],
   "source": [
    "# Race seems really disperportionate.\n",
    "# This is going to affect the data. \n",
    "FelonybyRace = FelonyRawData.groupby(['Race'])['ARREST_KEY'].count()\n",
    "FelonybyRace.plot.pie()"
   ]
  },
  {
   "cell_type": "code",
   "execution_count": 34,
   "metadata": {},
   "outputs": [
    {
     "data": {
      "text/plain": [
       "Offence\n",
       "ARSON                                122\n",
       "BURGLARY                            4895\n",
       "CHILD ABANDONMENT/NON SUPPORT         28\n",
       "CRIMINAL MISCHIEF & RELATED OF      4397\n",
       "DANGEROUS DRUGS                     5489\n",
       "DANGEROUS WEAPONS                   5473\n",
       "ENDAN WELFARE INCOMP                  11\n",
       "ESCAPE 3                               1\n",
       "FELONY ASSAULT                     15579\n",
       "FELONY SEX CRIMES                      2\n",
       "FORGERY                             3127\n",
       "GAMBLING                              36\n",
       "GRAND LARCENY                       6671\n",
       "GRAND LARCENY OF MOTOR VEHICLE      1181\n",
       "HOMICIDE-NEGLIGENT,UNCLASSIFIE        28\n",
       "HOMICIDE-NEGLIGENT-VEHICLE            10\n",
       "INTOXICATED & IMPAIRED DRIVING        39\n",
       "INTOXICATED/IMPAIRED DRIVING         382\n",
       "KIDNAPPING                            12\n",
       "KIDNAPPING & RELATED OFFENSES         85\n",
       "KIDNAPPING AND RELATED OFFENSES        1\n",
       "MISCELLANEOUS PENAL LAW            10262\n",
       "MURDER & NON-NEGL. MANSLAUGHTE      1513\n",
       "NYS LAWS-UNCLASSIFIED FELONY         706\n",
       "OFF. AGNST PUB ORD SENSBLTY &          1\n",
       "OFFENSES AGAINST PUBLIC ADMINI         1\n",
       "OFFENSES AGAINST PUBLIC SAFETY        11\n",
       "OTHER STATE LAWS (NON PENAL LA        54\n",
       "POSSESSION OF STOLEN PROPERTY       1100\n",
       "PROSTITUTION & RELATED OFFENSES       59\n",
       "RAPE                                 606\n",
       "ROBBERY                             7848\n",
       "SEX CRIMES                           683\n",
       "THEFT-FRAUD                          225\n",
       "VEHICLE AND TRAFFIC LAWS             183\n",
       "Name: ARREST_KEY, dtype: int64"
      ]
     },
     "execution_count": 34,
     "metadata": {},
     "output_type": "execute_result"
    }
   ],
   "source": [
    "# Taking a look at the offences listed.\n",
    "FelonyRawData.groupby(['Offence'])['ARREST_KEY'].count()"
   ]
  },
  {
   "cell_type": "markdown",
   "metadata": {},
   "source": [
    "### First going to look at Theft related arrest.\n",
    "    Theory - Most of the treft related arrest will be out of Manhattan due to it being a financial center and will be perpetrated by middle aged white men."
   ]
  },
  {
   "cell_type": "code",
   "execution_count": 35,
   "metadata": {},
   "outputs": [
    {
     "data": {
      "text/plain": [
       "Offence\n",
       "BURGLARY                          4895\n",
       "GRAND LARCENY                     6671\n",
       "GRAND LARCENY OF MOTOR VEHICLE    1181\n",
       "POSSESSION OF STOLEN PROPERTY     1100\n",
       "ROBBERY                           7848\n",
       "THEFT-FRAUD                        225\n",
       "Name: ARREST_KEY, dtype: int64"
      ]
     },
     "execution_count": 35,
     "metadata": {},
     "output_type": "execute_result"
    }
   ],
   "source": [
    "# Going to group some of these together starting with Thefts & Fraud \n",
    "ThefOffencestList = ['BURGLARY','FORGERY ','GRAND LARCENY','GRAND LARCENY OF MOTOR VEHICLE','POSSESSION OF STOLEN PROPERTY','ROBBERY','THEFT-FRAUD']\n",
    "TheftOffences = FelonyRawData[FelonyRawData['Offence'].isin(ThefOffencestList)]\n",
    "TheftOffences.groupby(['Offence'])['ARREST_KEY'].count()"
   ]
  },
  {
   "cell_type": "code",
   "execution_count": 36,
   "metadata": {},
   "outputs": [
    {
     "data": {
      "text/plain": [
       "<AxesSubplot:xlabel='Month #,Month'>"
      ]
     },
     "execution_count": 36,
     "metadata": {},
     "output_type": "execute_result"
    },
    {
     "data": {
      "image/png": "[encoded data removed]",
      "text/plain": [
       "<Figure size 2160x360 with 1 Axes>"
      ]
     },
     "metadata": {
      "needs_background": "light"
     },
     "output_type": "display_data"
    }
   ],
   "source": [
    "# This looks almost exactly what the total arrest data looked over time.\n",
    "TheftArrestsOverTime = pd.pivot_table(TheftOffences,values=\"ARREST_KEY\",columns=[\"Month #\",'Month'], aggfunc=np.sum)\n",
    "TheftArrestsbyMonth = TheftArrestsOverTime.sum()\n",
    "TheftArrestsbyMonth.plot(figsize=(30,5))"
   ]
  },
  {
   "cell_type": "code",
   "execution_count": 37,
   "metadata": {},
   "outputs": [
    {
     "data": {
      "text/plain": [
       "<AxesSubplot:>"
      ]
     },
     "execution_count": 37,
     "metadata": {},
     "output_type": "execute_result"
    },
    {
     "data": {
      "image/png": "[encoded data removed]",
      "text/plain": [
       "<Figure size 432x288 with 1 Axes>"
      ]
     },
     "metadata": {
      "needs_background": "light"
     },
     "output_type": "display_data"
    }
   ],
   "source": [
    "# A majority of theft related crimes were in Manhattan\n",
    "TheftbyBorough = pd.pivot_table(TheftOffences,values=\"ARREST_KEY\",columns=\"Borough\",aggfunc=np.sum)\n",
    "TheftbyBorough.plot.barh()"
   ]
  },
  {
   "cell_type": "code",
   "execution_count": 38,
   "metadata": {},
   "outputs": [
    {
     "data": {
      "text/plain": [
       "<AxesSubplot:ylabel='ARREST_KEY'>"
      ]
     },
     "execution_count": 38,
     "metadata": {},
     "output_type": "execute_result"
    },
    {
     "data": {
      "image/png": "[encoded data removed]",
      "text/plain": [
       "<Figure size 432x288 with 1 Axes>"
      ]
     },
     "metadata": {},
     "output_type": "display_data"
    }
   ],
   "source": [
    "# I was correct a mojority of the arrests were in the 25 - 44 age range.\n",
    "ManhattanThefts = TheftOffences[TheftOffences['Borough'] == 'Manhattan']\n",
    "ManhattanTheftbyAge = ManhattanThefts.groupby(['Age Group'])['ARREST_KEY'].count()\n",
    "ManhattanTheftbyAge.plot.pie()"
   ]
  },
  {
   "cell_type": "code",
   "execution_count": 39,
   "metadata": {},
   "outputs": [
    {
     "data": {
      "text/plain": [
       "<AxesSubplot:xlabel='Race'>"
      ]
     },
     "execution_count": 39,
     "metadata": {},
     "output_type": "execute_result"
    },
    {
     "data": {
      "image/png": "[encoded data removed]",
      "text/plain": [
       "<Figure size 432x288 with 1 Axes>"
      ]
     },
     "metadata": {
      "needs_background": "light"
     },
     "output_type": "display_data"
    }
   ],
   "source": [
    "# I was wrong most of the arrest are for black men.\n",
    "# Would I find the same in other crimes?\n",
    "ManhattanTheftsbySex = pd.pivot_table(ManhattanThefts,values=\"ARREST_KEY\",index=\"Race\",columns=\"Sex\",aggfunc=np.sum)\n",
    "ManhattanTheftsbySex.plot.bar()"
   ]
  },
  {
   "cell_type": "markdown",
   "metadata": {},
   "source": [
    "### Going to look at violent crimes like assault, homicide, and kidnapping\n",
    "    Theory - Due to the disparity in arrest of black men there will be more arrest among that group."
   ]
  },
  {
   "cell_type": "code",
   "execution_count": 40,
   "metadata": {},
   "outputs": [
    {
     "data": {
      "text/plain": [
       "Offence\n",
       "FELONY ASSAULT                    15579\n",
       "HOMICIDE-NEGLIGENT,UNCLASSIFIE       28\n",
       "HOMICIDE-NEGLIGENT-VEHICLE           10\n",
       "RAPE                                606\n",
       "SEX CRIMES                          683\n",
       "Name: ARREST_KEY, dtype: int64"
      ]
     },
     "execution_count": 40,
     "metadata": {},
     "output_type": "execute_result"
    }
   ],
   "source": [
    "# Grouping Assualt and Homicide together\n",
    "AssualtOffencesList = ['FELONY ASSAULT','HOMICIDE-NEGLIGENT,UNCLASSIFIE','HOMICIDE-NEGLIGENT-VEHICLE','MURDER & NON-NEGL. MANSLAUGHTE''FELONY SEX CRIMES','RAPE','SEX CRIMES']\n",
    "AssualtOffences = FelonyRawData[FelonyRawData['Offence'].isin(AssualtOffencesList)]\n",
    "AssualtOffences.groupby(['Offence'])['ARREST_KEY'].count()"
   ]
  },
  {
   "cell_type": "code",
   "execution_count": 41,
   "metadata": {},
   "outputs": [
    {
     "data": {
      "text/plain": [
       "Offence\n",
       "KIDNAPPING                         12\n",
       "KIDNAPPING & RELATED OFFENSES      85\n",
       "KIDNAPPING AND RELATED OFFENSES     1\n",
       "Name: ARREST_KEY, dtype: int64"
      ]
     },
     "execution_count": 41,
     "metadata": {},
     "output_type": "execute_result"
    }
   ],
   "source": [
    "# Grouping Kidnapping Offences together\n",
    "KidnappingOffences = FelonyRawData[FelonyRawData['Offence'].str.contains('KIDNAPPING')]\n",
    "KidnappingOffences.groupby(['Offence'])['ARREST_KEY'].count()"
   ]
  },
  {
   "cell_type": "code",
   "execution_count": 42,
   "metadata": {},
   "outputs": [
    {
     "data": {
      "text/plain": [
       "Offence\n",
       "FELONY ASSAULT                     15579\n",
       "HOMICIDE-NEGLIGENT,UNCLASSIFIE        28\n",
       "HOMICIDE-NEGLIGENT-VEHICLE            10\n",
       "KIDNAPPING                            12\n",
       "KIDNAPPING & RELATED OFFENSES         85\n",
       "KIDNAPPING AND RELATED OFFENSES        1\n",
       "RAPE                                 606\n",
       "SEX CRIMES                           683\n",
       "Name: ARREST_KEY, dtype: int64"
      ]
     },
     "execution_count": 42,
     "metadata": {},
     "output_type": "execute_result"
    }
   ],
   "source": [
    "# Combining the Kidnapping to the Assualt and Homicide data\n",
    "AssualtHomicideKidnappingData = pd.concat([KidnappingOffences, AssualtOffences])\n",
    "AssualtHomicideKidnappingData.groupby(['Offence'])['ARREST_KEY'].count()"
   ]
  },
  {
   "cell_type": "code",
   "execution_count": 43,
   "metadata": {},
   "outputs": [
    {
     "data": {
      "text/plain": [
       "<AxesSubplot:xlabel='Month #,Month'>"
      ]
     },
     "execution_count": 43,
     "metadata": {},
     "output_type": "execute_result"
    },
    {
     "data": {
      "image/png": "[encoded data removed]",
      "text/plain": [
       "<Figure size 2160x360 with 1 Axes>"
      ]
     },
     "metadata": {
      "needs_background": "light"
     },
     "output_type": "display_data"
    }
   ],
   "source": [
    "# Again it looks like the total arrest data over time.\n",
    "ViolentArrestsOverTime = pd.pivot_table(AssualtHomicideKidnappingData,values=\"ARREST_KEY\",columns=[\"Month #\",'Month'], aggfunc=np.sum)\n",
    "ViolentArrestsbyMonth = ViolentArrestsOverTime.sum()\n",
    "ViolentArrestsbyMonth.plot(figsize=(30,5))"
   ]
  },
  {
   "cell_type": "code",
   "execution_count": 44,
   "metadata": {},
   "outputs": [
    {
     "data": {
      "text/plain": [
       "<AxesSubplot:>"
      ]
     },
     "execution_count": 44,
     "metadata": {},
     "output_type": "execute_result"
    },
    {
     "data": {
      "image/png": "[encoded data removed]",
      "text/plain": [
       "<Figure size 432x288 with 1 Axes>"
      ]
     },
     "metadata": {
      "needs_background": "light"
     },
     "output_type": "display_data"
    }
   ],
   "source": [
    "# I honestly was not sure what borough was going to have the most arrests for violent crimes. \n",
    "ViolentbyBorough = pd.pivot_table(AssualtHomicideKidnappingData,values=\"ARREST_KEY\",columns=\"Borough\",aggfunc=np.sum)\n",
    "ViolentbyBorough.plot.barh()"
   ]
  },
  {
   "cell_type": "code",
   "execution_count": 45,
   "metadata": {},
   "outputs": [
    {
     "data": {
      "text/plain": [
       "<AxesSubplot:xlabel='Race'>"
      ]
     },
     "execution_count": 45,
     "metadata": {},
     "output_type": "execute_result"
    },
    {
     "data": {
      "image/png": "[encoded data removed]",
      "text/plain": [
       "<Figure size 432x288 with 1 Axes>"
      ]
     },
     "metadata": {
      "needs_background": "light"
     },
     "output_type": "display_data"
    }
   ],
   "source": [
    "# I was correct due to the black males making up for most of the arrests in the dataframe they account for most of the arrests in violent crimes.\n",
    "ViolentbyRace = pd.pivot_table(AssualtHomicideKidnappingData,values=\"ARREST_KEY\",index=\"Race\",columns=\"Sex\",aggfunc=np.sum)\n",
    "ViolentbyRace.plot.bar()"
   ]
  },
  {
   "cell_type": "code",
   "execution_count": 46,
   "metadata": {},
   "outputs": [
    {
     "data": {
      "text/plain": [
       "<AxesSubplot:ylabel='ARREST_KEY'>"
      ]
     },
     "execution_count": 46,
     "metadata": {},
     "output_type": "execute_result"
    },
    {
     "data": {
      "image/png": "[encoded data removed]",
      "text/plain": [
       "<Figure size 432x288 with 1 Axes>"
      ]
     },
     "metadata": {},
     "output_type": "display_data"
    }
   ],
   "source": [
    "# I was correct a mojority of the arrests were in the 25 - 44 age range.\n",
    "ViolentbyAge = AssualtHomicideKidnappingData.groupby(['Age Group'])['ARREST_KEY'].count()\n",
    "ViolentbyAge.plot.pie()"
   ]
  },
  {
   "cell_type": "markdown",
   "metadata": {},
   "source": [
    "### Going to put the violent crimes and thefts together to compare "
   ]
  },
  {
   "cell_type": "code",
   "execution_count": 47,
   "metadata": {},
   "outputs": [
    {
     "data": {
      "text/plain": [
       "Offence Type    Offence                        \n",
       "Violent Crimes  FELONY ASSAULT                     15579\n",
       "                HOMICIDE-NEGLIGENT,UNCLASSIFIE        28\n",
       "                HOMICIDE-NEGLIGENT-VEHICLE            10\n",
       "                KIDNAPPING                            12\n",
       "                KIDNAPPING & RELATED OFFENSES         85\n",
       "                KIDNAPPING AND RELATED OFFENSES        1\n",
       "                RAPE                                 606\n",
       "                SEX CRIMES                           683\n",
       "Name: ARREST_KEY, dtype: int64"
      ]
     },
     "execution_count": 47,
     "metadata": {},
     "output_type": "execute_result"
    }
   ],
   "source": [
    "# Adding column to note thease of 'Theft & Fraud'\n",
    "AssualtHomicideKidnappingData['Offence Type'] = \"Violent Crimes\"\n",
    "AssualtHomicideKidnappingData.groupby(['Offence Type','Offence'])['ARREST_KEY'].count()"
   ]
  },
  {
   "cell_type": "code",
   "execution_count": 48,
   "metadata": {},
   "outputs": [
    {
     "name": "stderr",
     "output_type": "stream",
     "text": [
      "<ipython-input-48-81fa3ee85321>:2: SettingWithCopyWarning: \n",
      "A value is trying to be set on a copy of a slice from a DataFrame.\n",
      "Try using .loc[row_indexer,col_indexer] = value instead\n",
      "\n",
      "See the caveats in the documentation: https://pandas.pydata.org/pandas-docs/stable/user_guide/indexing.html#returning-a-view-versus-a-copy\n",
      "  TheftOffences['Offence Type'] = \"Theft & Fraud\"\n"
     ]
    },
    {
     "data": {
      "text/plain": [
       "Offence Type   Offence                       \n",
       "Theft & Fraud  BURGLARY                          4895\n",
       "               GRAND LARCENY                     6671\n",
       "               GRAND LARCENY OF MOTOR VEHICLE    1181\n",
       "               POSSESSION OF STOLEN PROPERTY     1100\n",
       "               ROBBERY                           7848\n",
       "               THEFT-FRAUD                        225\n",
       "Name: ARREST_KEY, dtype: int64"
      ]
     },
     "execution_count": 48,
     "metadata": {},
     "output_type": "execute_result"
    }
   ],
   "source": [
    "# Adding column to note thease of 'Theft & Fraud'\n",
    "TheftOffences['Offence Type'] = \"Theft & Fraud\"\n",
    "TheftOffences.groupby(['Offence Type','Offence'])['ARREST_KEY'].count()"
   ]
  },
  {
   "cell_type": "code",
   "execution_count": 49,
   "metadata": {},
   "outputs": [
    {
     "data": {
      "text/plain": [
       "Offence Type\n",
       "Theft & Fraud     21920\n",
       "Violent Crimes    17004\n",
       "Name: ARREST_KEY, dtype: int64"
      ]
     },
     "execution_count": 49,
     "metadata": {},
     "output_type": "execute_result"
    }
   ],
   "source": [
    "# Putting both lists together.\n",
    "CleanData = pd.concat([TheftOffences, AssualtHomicideKidnappingData])\n",
    "CleanData.groupby(['Offence Type'])['ARREST_KEY'].count()"
   ]
  },
  {
   "cell_type": "code",
   "execution_count": 50,
   "metadata": {},
   "outputs": [
    {
     "data": {
      "text/html": [
       "<div>\n",
       "<style scoped>\n",
       "    .dataframe tbody tr th:only-of-type {\n",
       "        vertical-align: middle;\n",
       "    }\n",
       "\n",
       "    .dataframe tbody tr th {\n",
       "        vertical-align: top;\n",
       "    }\n",
       "\n",
       "    .dataframe thead th {\n",
       "        text-align: right;\n",
       "    }\n",
       "</style>\n",
       "<table border=\"1\" class=\"dataframe\">\n",
       "  <thead>\n",
       "    <tr style=\"text-align: right;\">\n",
       "      <th></th>\n",
       "      <th>ARREST_KEY</th>\n",
       "      <th>Date</th>\n",
       "      <th>Offence</th>\n",
       "      <th>Borough</th>\n",
       "      <th>Age Group</th>\n",
       "      <th>Sex</th>\n",
       "      <th>Race</th>\n",
       "      <th>Month #</th>\n",
       "      <th>Month</th>\n",
       "      <th>Offence Type</th>\n",
       "    </tr>\n",
       "  </thead>\n",
       "  <tbody>\n",
       "    <tr>\n",
       "      <th>35</th>\n",
       "      <td>237349642</td>\n",
       "      <td>2021-12-04</td>\n",
       "      <td>GRAND LARCENY OF MOTOR VEHICLE</td>\n",
       "      <td>Manhattan</td>\n",
       "      <td>25-44</td>\n",
       "      <td>Male</td>\n",
       "      <td>BLACK</td>\n",
       "      <td>12</td>\n",
       "      <td>Dec</td>\n",
       "      <td>Theft &amp; Fraud</td>\n",
       "    </tr>\n",
       "    <tr>\n",
       "      <th>42</th>\n",
       "      <td>236241282</td>\n",
       "      <td>2021-11-14</td>\n",
       "      <td>GRAND LARCENY</td>\n",
       "      <td>Queens</td>\n",
       "      <td>25-44</td>\n",
       "      <td>Male</td>\n",
       "      <td>BLACK</td>\n",
       "      <td>11</td>\n",
       "      <td>Nov</td>\n",
       "      <td>Theft &amp; Fraud</td>\n",
       "    </tr>\n",
       "    <tr>\n",
       "      <th>54</th>\n",
       "      <td>237592429</td>\n",
       "      <td>2021-12-09</td>\n",
       "      <td>ROBBERY</td>\n",
       "      <td>Bronx</td>\n",
       "      <td>25-44</td>\n",
       "      <td>Male</td>\n",
       "      <td>BLACK</td>\n",
       "      <td>12</td>\n",
       "      <td>Dec</td>\n",
       "      <td>Theft &amp; Fraud</td>\n",
       "    </tr>\n",
       "    <tr>\n",
       "      <th>72</th>\n",
       "      <td>238227651</td>\n",
       "      <td>2021-12-23</td>\n",
       "      <td>GRAND LARCENY</td>\n",
       "      <td>Manhattan</td>\n",
       "      <td>18-24</td>\n",
       "      <td>Male</td>\n",
       "      <td>BLACK</td>\n",
       "      <td>12</td>\n",
       "      <td>Dec</td>\n",
       "      <td>Theft &amp; Fraud</td>\n",
       "    </tr>\n",
       "    <tr>\n",
       "      <th>73</th>\n",
       "      <td>236062037</td>\n",
       "      <td>2021-11-09</td>\n",
       "      <td>GRAND LARCENY</td>\n",
       "      <td>Manhattan</td>\n",
       "      <td>25-44</td>\n",
       "      <td>Female</td>\n",
       "      <td>ASIAN / PACIFIC ISLANDER</td>\n",
       "      <td>11</td>\n",
       "      <td>Nov</td>\n",
       "      <td>Theft &amp; Fraud</td>\n",
       "    </tr>\n",
       "  </tbody>\n",
       "</table>\n",
       "</div>"
      ],
      "text/plain": [
       "    ARREST_KEY       Date                         Offence    Borough  \\\n",
       "35   237349642 2021-12-04  GRAND LARCENY OF MOTOR VEHICLE  Manhattan   \n",
       "42   236241282 2021-11-14                   GRAND LARCENY     Queens   \n",
       "54   237592429 2021-12-09                         ROBBERY      Bronx   \n",
       "72   238227651 2021-12-23                   GRAND LARCENY  Manhattan   \n",
       "73   236062037 2021-11-09                   GRAND LARCENY  Manhattan   \n",
       "\n",
       "   Age Group     Sex                      Race  Month # Month   Offence Type  \n",
       "35     25-44    Male                     BLACK       12   Dec  Theft & Fraud  \n",
       "42     25-44    Male                     BLACK       11   Nov  Theft & Fraud  \n",
       "54     25-44    Male                     BLACK       12   Dec  Theft & Fraud  \n",
       "72     18-24    Male                     BLACK       12   Dec  Theft & Fraud  \n",
       "73     25-44  Female  ASIAN / PACIFIC ISLANDER       11   Nov  Theft & Fraud  "
      ]
     },
     "execution_count": 50,
     "metadata": {},
     "output_type": "execute_result"
    }
   ],
   "source": [
    "# Dropping 'Law Code', 'Precinct' and Offence columns since I will not be using them.\n",
    "drop_cols = ['Precinct']\n",
    "CleanData.drop(drop_cols, inplace = True, axis=1)\n",
    "CleanData.head()"
   ]
  },
  {
   "cell_type": "code",
   "execution_count": 51,
   "metadata": {},
   "outputs": [
    {
     "data": {
      "text/plain": [
       "Offence Type\n",
       "Theft & Fraud     21920\n",
       "Violent Crimes    17004\n",
       "Name: ARREST_KEY, dtype: int64"
      ]
     },
     "execution_count": 51,
     "metadata": {},
     "output_type": "execute_result"
    },
    {
     "data": {
      "image/png": "[encoded data removed]",
      "text/plain": [
       "<Figure size 432x288 with 1 Axes>"
      ]
     },
     "metadata": {},
     "output_type": "display_data"
    }
   ],
   "source": [
    "# Looking at the count of offence type.\n",
    "# I do have more Theft and Fraud arrests but they are pretty even.\n",
    "ArrestCountbyBorough = CleanData.groupby(['Offence Type'])['ARREST_KEY'].count()\n",
    "ArrestCountbyBorough.plot.pie()\n",
    "ArrestCountbyBorough"
   ]
  },
  {
   "cell_type": "markdown",
   "metadata": {},
   "source": [
    "### Is there any arrest offences that are female dominated?"
   ]
  },
  {
   "cell_type": "code",
   "execution_count": 52,
   "metadata": {},
   "outputs": [
    {
     "data": {
      "text/plain": [
       "<AxesSubplot:ylabel='Offence'>"
      ]
     },
     "execution_count": 52,
     "metadata": {},
     "output_type": "execute_result"
    },
    {
     "data": {
      "image/png": "[encoded data removed]",
      "text/plain": [
       "<Figure size 432x288 with 1 Axes>"
      ]
     },
     "metadata": {
      "needs_background": "light"
     },
     "output_type": "display_data"
    }
   ],
   "source": [
    "# Does not look like there is.\n",
    "OffencesbySex = pd.pivot_table(CleanData,values=\"ARREST_KEY\",index=\"Offence\",columns=\"Sex\",aggfunc=np.sum)\n",
    "OffencesbySex.plot.barh()"
   ]
  },
  {
   "cell_type": "code",
   "execution_count": 53,
   "metadata": {},
   "outputs": [
    {
     "data": {
      "text/plain": [
       "<AxesSubplot:ylabel='Offence Type'>"
      ]
     },
     "execution_count": 53,
     "metadata": {},
     "output_type": "execute_result"
    },
    {
     "data": {
      "image/png": "[encoded data removed]",
      "text/plain": [
       "<Figure size 432x288 with 1 Axes>"
      ]
     },
     "metadata": {
      "needs_background": "light"
     },
     "output_type": "display_data"
    }
   ],
   "source": [
    "# Breaking out the 2 types to compare by borough \n",
    "OffenceBorough = pd.pivot_table(CleanData,values=\"ARREST_KEY\",index=\"Offence Type\",columns=\"Borough\",aggfunc=np.sum)\n",
    "OffenceBorough.plot.barh()"
   ]
  },
  {
   "cell_type": "code",
   "execution_count": 54,
   "metadata": {},
   "outputs": [
    {
     "data": {
      "text/plain": [
       "<matplotlib.legend.Legend at 0x1f42e30a070>"
      ]
     },
     "execution_count": 54,
     "metadata": {},
     "output_type": "execute_result"
    },
    {
     "data": {
      "image/png": "[encoded data removed]",
      "text/plain": [
       "<Figure size 2160x360 with 1 Axes>"
      ]
     },
     "metadata": {
      "needs_background": "light"
     },
     "output_type": "display_data"
    }
   ],
   "source": [
    "# Comparing all the felony arrest data to the violent crimes and thefts over the year.\n",
    "TheftArrestsbyMonth.plot(figsize=(30,5),label='Theft')\n",
    "ViolentArrestsbyMonth.plot(figsize=(30,5),label='Violent')\n",
    "ArrestsbyMonth.plot(figsize=(30,5),label='Total Arrests')\n",
    "plt.legend()"
   ]
  },
  {
   "cell_type": "markdown",
   "metadata": {},
   "source": [
    "### Conclusion\n",
    "    There is deffinately a significant amount of arrests of black men so it seems no matter the offence they will have the most arrests.\n",
    "    It seems that there are significant more arrests of males over females and have to wonder if this points to a gender bias.\n",
    "    When looking at the amount of arrests over the year both violent crimes and theft related crimes seem to follow the norm set by total felony arrest.\n",
    "    "
   ]
  },
  {
   "cell_type": "code",
   "execution_count": null,
   "metadata": {},
   "outputs": [],
   "source": []
  }
 ],
 "metadata": {
  "kernelspec": {
   "display_name": "Python 3",
   "language": "python",
   "name": "python3"
  },
  "language_info": {
   "codemirror_mode": {
    "name": "ipython",
    "version": 3
   },
   "file_extension": ".py",
   "mimetype": "text/x-python",
   "name": "python",
   "nbconvert_exporter": "python",
   "pygments_lexer": "ipython3",
   "version": "3.8.5"
  }
 },
 "nbformat": 4,
 "nbformat_minor": 4
}
